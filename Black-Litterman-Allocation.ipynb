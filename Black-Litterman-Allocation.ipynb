{
 "cells": [
  {
   "cell_type": "code",
   "execution_count": 1,
   "metadata": {},
   "outputs": [],
   "source": [
    "import numpy as np\n",
    "import pandas as pd\n",
    "import matplotlib.pyplot as plt\n",
    "import yfinance as yf"
   ]
  },
  {
   "cell_type": "code",
   "execution_count": 3,
   "metadata": {},
   "outputs": [],
   "source": [
    "tickers = ['BIGC', 'SRAC', 'MAXR', 'FSLY', 'BPF-UN.TO',\n",
    "          'PACB', 'BYND', 'BNGO', 'PLUG', 'SPCE']"
   ]
  },
  {
   "cell_type": "code",
   "execution_count": 8,
   "metadata": {},
   "outputs": [
    {
     "name": "stdout",
     "output_type": "stream",
     "text": [
      "[*********************100%***********************]  10 of 10 completed\n"
     ]
    },
    {
     "data": {
      "text/html": [
       "<div>\n",
       "<style scoped>\n",
       "    .dataframe tbody tr th:only-of-type {\n",
       "        vertical-align: middle;\n",
       "    }\n",
       "\n",
       "    .dataframe tbody tr th {\n",
       "        vertical-align: top;\n",
       "    }\n",
       "\n",
       "    .dataframe thead th {\n",
       "        text-align: right;\n",
       "    }\n",
       "</style>\n",
       "<table border=\"1\" class=\"dataframe\">\n",
       "  <thead>\n",
       "    <tr style=\"text-align: right;\">\n",
       "      <th></th>\n",
       "      <th>BIGC</th>\n",
       "      <th>BNGO</th>\n",
       "      <th>BPF-UN.TO</th>\n",
       "      <th>BYND</th>\n",
       "      <th>FSLY</th>\n",
       "      <th>MAXR</th>\n",
       "      <th>PACB</th>\n",
       "      <th>PLUG</th>\n",
       "      <th>SPCE</th>\n",
       "      <th>SRAC</th>\n",
       "    </tr>\n",
       "    <tr>\n",
       "      <th>Date</th>\n",
       "      <th></th>\n",
       "      <th></th>\n",
       "      <th></th>\n",
       "      <th></th>\n",
       "      <th></th>\n",
       "      <th></th>\n",
       "      <th></th>\n",
       "      <th></th>\n",
       "      <th></th>\n",
       "      <th></th>\n",
       "    </tr>\n",
       "  </thead>\n",
       "  <tbody>\n",
       "    <tr>\n",
       "      <th>2020-08-05</th>\n",
       "      <td>72.269997</td>\n",
       "      <td>0.75</td>\n",
       "      <td>6.780229</td>\n",
       "      <td>132.690002</td>\n",
       "      <td>108.919998</td>\n",
       "      <td>20.715347</td>\n",
       "      <td>3.920000</td>\n",
       "      <td>9.330000</td>\n",
       "      <td>20.150000</td>\n",
       "      <td>9.97</td>\n",
       "    </tr>\n",
       "    <tr>\n",
       "      <th>2020-08-06</th>\n",
       "      <td>93.510002</td>\n",
       "      <td>0.80</td>\n",
       "      <td>6.799464</td>\n",
       "      <td>132.580002</td>\n",
       "      <td>89.639999</td>\n",
       "      <td>25.002317</td>\n",
       "      <td>4.080000</td>\n",
       "      <td>10.730000</td>\n",
       "      <td>19.340000</td>\n",
       "      <td>9.97</td>\n",
       "    </tr>\n",
       "    <tr>\n",
       "      <th>2020-08-07</th>\n",
       "      <td>79.000000</td>\n",
       "      <td>0.86</td>\n",
       "      <td>6.751377</td>\n",
       "      <td>131.509995</td>\n",
       "      <td>79.330002</td>\n",
       "      <td>24.722515</td>\n",
       "      <td>4.730000</td>\n",
       "      <td>11.280000</td>\n",
       "      <td>18.250000</td>\n",
       "      <td>9.97</td>\n",
       "    </tr>\n",
       "    <tr>\n",
       "      <th>2020-08-10</th>\n",
       "      <td>76.720001</td>\n",
       "      <td>0.84</td>\n",
       "      <td>6.886020</td>\n",
       "      <td>127.430000</td>\n",
       "      <td>78.180000</td>\n",
       "      <td>24.432720</td>\n",
       "      <td>4.710000</td>\n",
       "      <td>12.040000</td>\n",
       "      <td>19.230000</td>\n",
       "      <td>9.97</td>\n",
       "    </tr>\n",
       "    <tr>\n",
       "      <th>2020-08-11</th>\n",
       "      <td>72.570000</td>\n",
       "      <td>0.80</td>\n",
       "      <td>6.943724</td>\n",
       "      <td>125.500000</td>\n",
       "      <td>74.959999</td>\n",
       "      <td>24.832436</td>\n",
       "      <td>4.470000</td>\n",
       "      <td>11.310000</td>\n",
       "      <td>18.280001</td>\n",
       "      <td>10.02</td>\n",
       "    </tr>\n",
       "    <tr>\n",
       "      <th>...</th>\n",
       "      <td>...</td>\n",
       "      <td>...</td>\n",
       "      <td>...</td>\n",
       "      <td>...</td>\n",
       "      <td>...</td>\n",
       "      <td>...</td>\n",
       "      <td>...</td>\n",
       "      <td>...</td>\n",
       "      <td>...</td>\n",
       "      <td>...</td>\n",
       "    </tr>\n",
       "    <tr>\n",
       "      <th>2021-01-21</th>\n",
       "      <td>71.320000</td>\n",
       "      <td>8.27</td>\n",
       "      <td>10.770000</td>\n",
       "      <td>134.610001</td>\n",
       "      <td>104.129997</td>\n",
       "      <td>51.080002</td>\n",
       "      <td>36.310001</td>\n",
       "      <td>63.689999</td>\n",
       "      <td>33.270000</td>\n",
       "      <td>26.26</td>\n",
       "    </tr>\n",
       "    <tr>\n",
       "      <th>2021-01-22</th>\n",
       "      <td>71.250000</td>\n",
       "      <td>9.80</td>\n",
       "      <td>10.640000</td>\n",
       "      <td>140.699997</td>\n",
       "      <td>103.279999</td>\n",
       "      <td>50.220001</td>\n",
       "      <td>37.419998</td>\n",
       "      <td>66.870003</td>\n",
       "      <td>34.279999</td>\n",
       "      <td>24.85</td>\n",
       "    </tr>\n",
       "    <tr>\n",
       "      <th>2021-01-25</th>\n",
       "      <td>80.010002</td>\n",
       "      <td>12.58</td>\n",
       "      <td>10.600000</td>\n",
       "      <td>158.729996</td>\n",
       "      <td>105.209999</td>\n",
       "      <td>50.150002</td>\n",
       "      <td>35.950001</td>\n",
       "      <td>65.720001</td>\n",
       "      <td>36.000000</td>\n",
       "      <td>23.68</td>\n",
       "    </tr>\n",
       "    <tr>\n",
       "      <th>2021-01-26</th>\n",
       "      <td>86.320000</td>\n",
       "      <td>12.21</td>\n",
       "      <td>10.640000</td>\n",
       "      <td>186.830002</td>\n",
       "      <td>106.989998</td>\n",
       "      <td>48.570000</td>\n",
       "      <td>32.880001</td>\n",
       "      <td>73.180000</td>\n",
       "      <td>42.049999</td>\n",
       "      <td>22.75</td>\n",
       "    </tr>\n",
       "    <tr>\n",
       "      <th>2021-01-27</th>\n",
       "      <td>90.000000</td>\n",
       "      <td>11.04</td>\n",
       "      <td>10.480000</td>\n",
       "      <td>192.080002</td>\n",
       "      <td>108.980003</td>\n",
       "      <td>43.500000</td>\n",
       "      <td>31.059999</td>\n",
       "      <td>64.419998</td>\n",
       "      <td>46.349998</td>\n",
       "      <td>20.10</td>\n",
       "    </tr>\n",
       "  </tbody>\n",
       "</table>\n",
       "<p>118 rows × 10 columns</p>\n",
       "</div>"
      ],
      "text/plain": [
       "                 BIGC   BNGO  BPF-UN.TO        BYND        FSLY       MAXR  \\\n",
       "Date                                                                         \n",
       "2020-08-05  72.269997   0.75   6.780229  132.690002  108.919998  20.715347   \n",
       "2020-08-06  93.510002   0.80   6.799464  132.580002   89.639999  25.002317   \n",
       "2020-08-07  79.000000   0.86   6.751377  131.509995   79.330002  24.722515   \n",
       "2020-08-10  76.720001   0.84   6.886020  127.430000   78.180000  24.432720   \n",
       "2020-08-11  72.570000   0.80   6.943724  125.500000   74.959999  24.832436   \n",
       "...               ...    ...        ...         ...         ...        ...   \n",
       "2021-01-21  71.320000   8.27  10.770000  134.610001  104.129997  51.080002   \n",
       "2021-01-22  71.250000   9.80  10.640000  140.699997  103.279999  50.220001   \n",
       "2021-01-25  80.010002  12.58  10.600000  158.729996  105.209999  50.150002   \n",
       "2021-01-26  86.320000  12.21  10.640000  186.830002  106.989998  48.570000   \n",
       "2021-01-27  90.000000  11.04  10.480000  192.080002  108.980003  43.500000   \n",
       "\n",
       "                 PACB       PLUG       SPCE   SRAC  \n",
       "Date                                                \n",
       "2020-08-05   3.920000   9.330000  20.150000   9.97  \n",
       "2020-08-06   4.080000  10.730000  19.340000   9.97  \n",
       "2020-08-07   4.730000  11.280000  18.250000   9.97  \n",
       "2020-08-10   4.710000  12.040000  19.230000   9.97  \n",
       "2020-08-11   4.470000  11.310000  18.280001  10.02  \n",
       "...               ...        ...        ...    ...  \n",
       "2021-01-21  36.310001  63.689999  33.270000  26.26  \n",
       "2021-01-22  37.419998  66.870003  34.279999  24.85  \n",
       "2021-01-25  35.950001  65.720001  36.000000  23.68  \n",
       "2021-01-26  32.880001  73.180000  42.049999  22.75  \n",
       "2021-01-27  31.059999  64.419998  46.349998  20.10  \n",
       "\n",
       "[118 rows x 10 columns]"
      ]
     },
     "execution_count": 8,
     "metadata": {},
     "output_type": "execute_result"
    }
   ],
   "source": [
    "ohlc = yf.download(tickers, period=\"max\")\n",
    "prices = ohlc[\"Adj Close\"]\n",
    "prices = prices.dropna()\n",
    "prices"
   ]
  },
  {
   "cell_type": "code",
   "execution_count": 7,
   "metadata": {
    "scrolled": true
   },
   "outputs": [
    {
     "name": "stdout",
     "output_type": "stream",
     "text": [
      "[*********************100%***********************]  1 of 1 completed\n"
     ]
    },
    {
     "data": {
      "text/plain": [
       "Date\n",
       "1993-01-29    25.968958\n",
       "1993-02-01    26.153660\n",
       "1993-02-02    26.209057\n",
       "1993-02-03    26.486113\n",
       "1993-02-04    26.596937\n",
       "Name: Adj Close, dtype: float64"
      ]
     },
     "execution_count": 7,
     "metadata": {},
     "output_type": "execute_result"
    }
   ],
   "source": [
    "market_prices = yf.download(\"SPY\", period=\"max\")[\"Adj Close\"]\n",
    "market_prices.head()"
   ]
  },
  {
   "cell_type": "code",
   "execution_count": 9,
   "metadata": {},
   "outputs": [
    {
     "data": {
      "text/plain": [
       "{'BIGC': 6102603264,\n",
       " 'SRAC': 444360768,\n",
       " 'MAXR': 2656749568,\n",
       " 'FSLY': 12369230848,\n",
       " 'BPF-UN.TO': 225545312,\n",
       " 'PACB': 5815146496,\n",
       " 'BYND': 12034907136,\n",
       " 'BNGO': 3001003264,\n",
       " 'PLUG': 30151651328,\n",
       " 'SPCE': 10861751296}"
      ]
     },
     "execution_count": 9,
     "metadata": {},
     "output_type": "execute_result"
    }
   ],
   "source": [
    "mcaps = {}\n",
    "for t in tickers:\n",
    "    stock = yf.Ticker(t)\n",
    "    mcaps[t] = stock.info[\"marketCap\"]\n",
    "mcaps"
   ]
  },
  {
   "cell_type": "markdown",
   "metadata": {},
   "source": [
    "## Constructing the prior\n",
    "Black and Litterman (1991) provide the insight that a natural choice for prior: the market’s estimate of the return, which is embedded into the market cap of the asset.\n",
    "\n",
    "Note\n",
    "\n",
    "* A significant body of research shows that mean historical returns are a completely uninformative prior.Technically no prior estimate is needed for the Black-Litterman model. This is particularly useful if views (and confidences) were generated by some proprietary model, in which case BL is essentially a clever way of mixing views."
   ]
  },
  {
   "cell_type": "code",
   "execution_count": 11,
   "metadata": {},
   "outputs": [],
   "source": [
    "from pypfopt import black_litterman, risk_models\n",
    "from pypfopt import BlackLittermanModel, plotting"
   ]
  },
  {
   "cell_type": "code",
   "execution_count": 12,
   "metadata": {},
   "outputs": [
    {
     "data": {
      "text/plain": [
       "2.6153248560812887"
      ]
     },
     "execution_count": 12,
     "metadata": {},
     "output_type": "execute_result"
    }
   ],
   "source": [
    "S = risk_models.CovarianceShrinkage(prices).ledoit_wolf()\n",
    "delta = black_litterman.market_implied_risk_aversion(market_prices)\n",
    "delta"
   ]
  },
  {
   "cell_type": "code",
   "execution_count": 13,
   "metadata": {
    "scrolled": true
   },
   "outputs": [
    {
     "data": {
      "image/png": "[encoded data removed]",
      "text/plain": [
       "<Figure size 432x288 with 2 Axes>"
      ]
     },
     "metadata": {
      "needs_background": "light"
     },
     "output_type": "display_data"
    }
   ],
   "source": [
    "plotting.plot_covariance(S, plot_correlation=True);"
   ]
  },
  {
   "cell_type": "code",
   "execution_count": 14,
   "metadata": {},
   "outputs": [
    {
     "data": {
      "text/plain": [
       "BIGC         0.587003\n",
       "BNGO         0.220198\n",
       "BPF-UN.TO    0.110354\n",
       "BYND         0.548225\n",
       "FSLY         0.751493\n",
       "MAXR         0.363306\n",
       "PACB         0.481626\n",
       "PLUG         1.536794\n",
       "SPCE         0.651732\n",
       "SRAC         0.224363\n",
       "dtype: float64"
      ]
     },
     "execution_count": 14,
     "metadata": {},
     "output_type": "execute_result"
    }
   ],
   "source": [
    "market_prior = black_litterman.market_implied_prior_returns(mcaps, delta, S)\n",
    "market_prior"
   ]
  },
  {
   "cell_type": "code",
   "execution_count": 15,
   "metadata": {
    "scrolled": true
   },
   "outputs": [
    {
     "data": {
      "image/png": "[encoded data removed]",
      "text/plain": [
       "<Figure size 720x360 with 1 Axes>"
      ]
     },
     "metadata": {
      "needs_background": "light"
     },
     "output_type": "display_data"
    }
   ],
   "source": [
    "market_prior.plot.barh(figsize=(10,5));"
   ]
  },
  {
   "cell_type": "markdown",
   "metadata": {},
   "source": [
    "## Views\n",
    "In the BL method, views are specified via the matrix P (picking matrix) and the vector Q. Q contains the magnitude of each view, while P maps the views to the assets they belong to.\n",
    "\n",
    "If you are providing absolute views (i.e a return estimate for each asset), you don't have to worry about P and Q, you can just pass your views as a dictionary.b"
   ]
  },
  {
   "cell_type": "code",
   "execution_count": 21,
   "metadata": {},
   "outputs": [],
   "source": [
    "# You don't have to provide views on all the assets\n",
    "viewdict = {\n",
    "    'BIGC': 0.40,\n",
    "    'SRAC': 0.40,\n",
    "    'MAXR': 0.85,\n",
    "    'FSLY': 0.35,\n",
    "    'BPF-UN.TO': 0.20,\n",
    "    'PACB': 0.55,  # I think Coca-Cola will go down 5%\n",
    "    'BYND': 0.35,\n",
    "    'BNGO': 0.50,\n",
    "    'PLUG': 0.40,  # but low confidence, which will be reflected later\n",
    "    'SPCE': 0.800\n",
    "}\n",
    "\n",
    "bl = BlackLittermanModel(S, pi=market_prior, absolute_views=viewdict)"
   ]
  },
  {
   "cell_type": "markdown",
   "metadata": {},
   "source": [
    "## View confidences\n",
    "In this section, we provide two ways that you may wish to construct the uncertainty matrix. The first is known as Idzorek's method. It allows you to specify a vector/list of percentage confidences."
   ]
  },
  {
   "cell_type": "code",
   "execution_count": 22,
   "metadata": {},
   "outputs": [],
   "source": [
    "confidences = [\n",
    "    0.6,\n",
    "    0.4,\n",
    "    0.7,  # confident in MAXAR\n",
    "    0.6,\n",
    "    0.5,\n",
    "    0.5, \n",
    "    0.7, \n",
    "    0.2, # believe BNGO will do poorly -- not included in ARKG\n",
    "    0.5,\n",
    "    0.4\n",
    "]"
   ]
  },
  {
   "cell_type": "code",
   "execution_count": 23,
   "metadata": {},
   "outputs": [],
   "source": [
    "bl = BlackLittermanModel(S, pi=market_prior, absolute_views=viewdict, omega=\"idzorek\", view_confidences=confidences)"
   ]
  },
  {
   "cell_type": "code",
   "execution_count": 24,
   "metadata": {},
   "outputs": [
    {
     "data": {
      "image/png": "[encoded data removed]",
      "text/plain": [
       "<Figure size 504x504 with 1 Axes>"
      ]
     },
     "metadata": {
      "needs_background": "light"
     },
     "output_type": "display_data"
    }
   ],
   "source": [
    "fig, ax = plt.subplots(figsize=(7,7))\n",
    "im = ax.imshow(bl.omega)\n",
    "\n",
    "# We want to show all ticks...\n",
    "ax.set_xticks(np.arange(len(bl.tickers)))\n",
    "ax.set_yticks(np.arange(len(bl.tickers)))\n",
    "\n",
    "ax.set_xticklabels(bl.tickers)\n",
    "ax.set_yticklabels(bl.tickers)\n",
    "plt.show()"
   ]
  },
  {
   "cell_type": "code",
   "execution_count": 27,
   "metadata": {},
   "outputs": [
    {
     "data": {
      "text/plain": [
       "array([0.05357054, 0.06979607, 0.02233881, 0.03619991, 0.04706031,\n",
       "       0.05421832, 0.01791977, 1.13586833, 0.06725605, 0.08058621])"
      ]
     },
     "execution_count": 27,
     "metadata": {},
     "output_type": "execute_result"
    }
   ],
   "source": [
    "omega = np.diag(bl.omega)\n",
    "omega"
   ]
  },
  {
   "cell_type": "markdown",
   "metadata": {},
   "source": [
    "## Posterior estimates\n",
    "Given the inputs, we can compute a posterior estimate of returns"
   ]
  },
  {
   "cell_type": "code",
   "execution_count": 29,
   "metadata": {},
   "outputs": [],
   "source": [
    "# We are using the shortcut to automatically compute market-implied prior\n",
    "bl = BlackLittermanModel(S, pi=\"market\", market_caps=mcaps, risk_aversion=delta,\n",
    "                        absolute_views=viewdict, omega=bl.omega)"
   ]
  },
  {
   "cell_type": "code",
   "execution_count": 31,
   "metadata": {},
   "outputs": [
    {
     "data": {
      "text/html": [
       "<div>\n",
       "<style scoped>\n",
       "    .dataframe tbody tr th:only-of-type {\n",
       "        vertical-align: middle;\n",
       "    }\n",
       "\n",
       "    .dataframe tbody tr th {\n",
       "        vertical-align: top;\n",
       "    }\n",
       "\n",
       "    .dataframe thead th {\n",
       "        text-align: right;\n",
       "    }\n",
       "</style>\n",
       "<table border=\"1\" class=\"dataframe\">\n",
       "  <thead>\n",
       "    <tr style=\"text-align: right;\">\n",
       "      <th></th>\n",
       "      <th>Prior</th>\n",
       "      <th>Posterior</th>\n",
       "      <th>Views</th>\n",
       "    </tr>\n",
       "  </thead>\n",
       "  <tbody>\n",
       "    <tr>\n",
       "      <th>BIGC</th>\n",
       "      <td>0.587003</td>\n",
       "      <td>0.441304</td>\n",
       "      <td>0.40</td>\n",
       "    </tr>\n",
       "    <tr>\n",
       "      <th>BNGO</th>\n",
       "      <td>0.220198</td>\n",
       "      <td>0.368854</td>\n",
       "      <td>0.50</td>\n",
       "    </tr>\n",
       "    <tr>\n",
       "      <th>BPF-UN.TO</th>\n",
       "      <td>0.110354</td>\n",
       "      <td>0.140189</td>\n",
       "      <td>0.20</td>\n",
       "    </tr>\n",
       "    <tr>\n",
       "      <th>BYND</th>\n",
       "      <td>0.548225</td>\n",
       "      <td>0.389248</td>\n",
       "      <td>0.35</td>\n",
       "    </tr>\n",
       "    <tr>\n",
       "      <th>FSLY</th>\n",
       "      <td>0.751493</td>\n",
       "      <td>0.473828</td>\n",
       "      <td>0.35</td>\n",
       "    </tr>\n",
       "    <tr>\n",
       "      <th>MAXR</th>\n",
       "      <td>0.363306</td>\n",
       "      <td>0.682402</td>\n",
       "      <td>0.85</td>\n",
       "    </tr>\n",
       "    <tr>\n",
       "      <th>PACB</th>\n",
       "      <td>0.481626</td>\n",
       "      <td>0.483393</td>\n",
       "      <td>0.55</td>\n",
       "    </tr>\n",
       "    <tr>\n",
       "      <th>PLUG</th>\n",
       "      <td>1.536794</td>\n",
       "      <td>0.972634</td>\n",
       "      <td>0.40</td>\n",
       "    </tr>\n",
       "    <tr>\n",
       "      <th>SPCE</th>\n",
       "      <td>0.651732</td>\n",
       "      <td>0.677257</td>\n",
       "      <td>0.80</td>\n",
       "    </tr>\n",
       "    <tr>\n",
       "      <th>SRAC</th>\n",
       "      <td>0.224363</td>\n",
       "      <td>0.299798</td>\n",
       "      <td>0.40</td>\n",
       "    </tr>\n",
       "  </tbody>\n",
       "</table>\n",
       "</div>"
      ],
      "text/plain": [
       "              Prior  Posterior  Views\n",
       "BIGC       0.587003   0.441304   0.40\n",
       "BNGO       0.220198   0.368854   0.50\n",
       "BPF-UN.TO  0.110354   0.140189   0.20\n",
       "BYND       0.548225   0.389248   0.35\n",
       "FSLY       0.751493   0.473828   0.35\n",
       "MAXR       0.363306   0.682402   0.85\n",
       "PACB       0.481626   0.483393   0.55\n",
       "PLUG       1.536794   0.972634   0.40\n",
       "SPCE       0.651732   0.677257   0.80\n",
       "SRAC       0.224363   0.299798   0.40"
      ]
     },
     "execution_count": 31,
     "metadata": {},
     "output_type": "execute_result"
    }
   ],
   "source": [
    "ret_bl = bl.bl_returns()\n",
    "rets_df = pd.DataFrame([market_prior, ret_bl, pd.Series(viewdict)], \n",
    "             index=[\"Prior\", \"Posterior\", \"Views\"]).T\n",
    "rets_df"
   ]
  },
  {
   "cell_type": "code",
   "execution_count": 32,
   "metadata": {
    "scrolled": false
   },
   "outputs": [
    {
     "data": {
      "image/png": "[encoded data removed]",
      "text/plain": [
       "<Figure size 864x576 with 1 Axes>"
      ]
     },
     "metadata": {
      "needs_background": "light"
     },
     "output_type": "display_data"
    }
   ],
   "source": [
    "rets_df.plot.bar(figsize=(12,8));"
   ]
  },
  {
   "cell_type": "markdown",
   "metadata": {},
   "source": [
    "\n",
    "Notice that the posterior is often between the prior and the views. This supports the fact that the BL method is essentially a Bayesian weighted-average of the prior and views, where the weight is determined by the confidence.\n",
    "\n",
    "A similar but less intuitive procedure can be used to produce the posterior covariance estimate:"
   ]
  },
  {
   "cell_type": "code",
   "execution_count": 34,
   "metadata": {
    "scrolled": true
   },
   "outputs": [
    {
     "data": {
      "image/png": "[encoded data removed]",
      "text/plain": [
       "<Figure size 432x288 with 2 Axes>"
      ]
     },
     "metadata": {
      "needs_background": "light"
     },
     "output_type": "display_data"
    }
   ],
   "source": [
    "S_bl = bl.bl_cov()\n",
    "plotting.plot_covariance(S_bl);"
   ]
  },
  {
   "cell_type": "markdown",
   "metadata": {},
   "source": [
    "## Portfolio allocation\n",
    "Now that we have constructed our Black-Litterman posterior estimate, we can proceed to use any of the optimisers discussed in previous recipes."
   ]
  },
  {
   "cell_type": "code",
   "execution_count": 35,
   "metadata": {},
   "outputs": [],
   "source": [
    "from pypfopt import EfficientFrontier, objective_functions"
   ]
  },
  {
   "cell_type": "code",
   "execution_count": 36,
   "metadata": {},
   "outputs": [
    {
     "name": "stderr",
     "output_type": "stream",
     "text": [
      "/opt/conda/lib/python3.8/site-packages/pypfopt/efficient_frontier.py:195: UserWarning: max_sharpe transforms the optimisation problem so additional objectives may not work as expected.\n",
      "  warnings.warn(\n"
     ]
    },
    {
     "data": {
      "text/plain": [
       "OrderedDict([('BIGC', 0.07317),\n",
       "             ('BNGO', 0.04462),\n",
       "             ('BPF-UN.TO', 0.02444),\n",
       "             ('BYND', 0.09076),\n",
       "             ('FSLY', 0.09224),\n",
       "             ('MAXR', 0.16376),\n",
       "             ('PACB', 0.09822),\n",
       "             ('PLUG', 0.20959),\n",
       "             ('SPCE', 0.15547),\n",
       "             ('SRAC', 0.04773)])"
      ]
     },
     "execution_count": 36,
     "metadata": {},
     "output_type": "execute_result"
    }
   ],
   "source": [
    "ef = EfficientFrontier(ret_bl, S_bl)\n",
    "ef.add_objective(objective_functions.L2_reg)\n",
    "ef.max_sharpe()\n",
    "weights = ef.clean_weights()\n",
    "weights"
   ]
  },
  {
   "cell_type": "code",
   "execution_count": 37,
   "metadata": {},
   "outputs": [
    {
     "data": {
      "image/png": "[encoded data removed]",
      "text/plain": [
       "<Figure size 720x720 with 1 Axes>"
      ]
     },
     "metadata": {},
     "output_type": "display_data"
    }
   ],
   "source": [
    "pd.Series(weights).plot.pie(figsize=(10,10));"
   ]
  },
  {
   "cell_type": "code",
   "execution_count": 39,
   "metadata": {},
   "outputs": [
    {
     "name": "stdout",
     "output_type": "stream",
     "text": [
      "Leftover: $0.41\n"
     ]
    },
    {
     "data": {
      "text/plain": [
       "{'BIGC': 8,\n",
       " 'BNGO': 41,\n",
       " 'BPF-UN.TO': 23,\n",
       " 'BYND': 5,\n",
       " 'FSLY': 8,\n",
       " 'MAXR': 38,\n",
       " 'PACB': 31,\n",
       " 'PLUG': 33,\n",
       " 'SPCE': 33,\n",
       " 'SRAC': 24}"
      ]
     },
     "execution_count": 39,
     "metadata": {},
     "output_type": "execute_result"
    }
   ],
   "source": [
    "from pypfopt import DiscreteAllocation\n",
    "\n",
    "da = DiscreteAllocation(weights, prices.iloc[-1], total_portfolio_value=10000)\n",
    "alloc, leftover = da.lp_portfolio()\n",
    "print(f\"Leftover: ${leftover:.2f}\")\n",
    "alloc"
   ]
  }
 ],
 "metadata": {
  "kernelspec": {
   "display_name": "Python 3",
   "language": "python",
   "name": "python3"
  },
  "language_info": {
   "codemirror_mode": {
    "name": "ipython",
    "version": 3
   },
   "file_extension": ".py",
   "mimetype": "text/x-python",
   "name": "python",
   "nbconvert_exporter": "python",
   "pygments_lexer": "ipython3",
   "version": "3.8.6"
  }
 },
 "nbformat": 4,
 "nbformat_minor": 4
}
